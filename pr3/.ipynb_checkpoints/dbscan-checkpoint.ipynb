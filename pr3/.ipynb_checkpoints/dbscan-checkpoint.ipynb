{
 "cells": [
  {
   "cell_type": "code",
   "execution_count": 1,
   "metadata": {
    "collapsed": true
   },
   "outputs": [],
   "source": [
    "import numpy as np\n",
    "import pandas as pd\n",
    "import scipy.sparse as sp\n",
    "import re\n",
    "from numpy.linalg import norm\n",
    "from collections import Counter, defaultdict\n",
    "from scipy.sparse import csr_matrix\n"
   ]
  },
  {
   "cell_type": "code",
   "execution_count": 2,
   "metadata": {
    "collapsed": true
   },
   "outputs": [],
   "source": [
    "# read in the dataset\n",
    "with open(\"train.dat\", \"r\") as tr:\n",
    "    train_data = tr.readlines()"
   ]
  },
  {
   "cell_type": "code",
   "execution_count": 11,
   "metadata": {},
   "outputs": [
    {
     "name": "stdout",
     "output_type": "stream",
     "text": [
      "212\n",
      "380\n",
      "718 1 20883 2 759 3 16 1 18923 1 2402 1 17 1 18925 1 18926 2 2281 1 4027 2 1435 1 9150 1 9033 1 1359 1 6284 1 1992 1 407 1 443 1 18210 5 562 1 166 2 924 1 169 7 926 1 18218 1 61 1 1126 1 1360 5 29 1 1046 2 3422 1 1244 2 66 2 1362 1 4073 1 2453 1 3506 1 1364 3 1283 1 69 1 1366 1 9160 1 3464 1 1367 4 2097 1 2579 1 1886 1 8 1 332 2 12205 1 2979 3 619 1 692 3 11438 1 577 1 30 1 11917 1 15276 1 3113 2 2105 1 1371 1 3038 2 9050 1 6063 1 78 1 1378 3 1496 1 142 1 421 3 540 2 264 1 428 1 384 2 10953 1 10638 4 946 1 785 2 21683 2 21684 1 21685 1 21686 1 10797 1 21687 1 20679 1 2033 1 21688 1 1026 2 18916 1 18917 1 989 1 18918 1 3045 4 2155 2 1382 1 2157 1 1149 3 4093 5 6911 2 117 1 2995 2 1789 3 154 1 634 2 393 1 555 1\n",
      "\n",
      "358 3 759 2 1070 1 3414 2 2127 1 57 2 1633 1 2605 1 1075 1 2281 1 3416 1 1391 3 2680 1 3256 1 5670 1 5671 1 4547 2 5672 1 5673 1 204 1 5674 1 5675 1 5676 1 5677 1 523 1 5678 1 5679 1 362 1 763 4 844 1 682 2 369 2 289 1 61 1 1403 1 1242 1 3025 1 3109 1 2057 1 1409 1 5605 1 1961 2 1169 2 5680 1 5681 1 5682 1 5 1 5683 1 6 2 5684 2 215 1 134 1 5685 1 5686 1 135 1 9 5 532 1 5687 2 4797 1 5688 1 372 1 5689 3 534 2 616 1 375 1 539 1 4001 1 778 1 1411 1 70 2 779 1 2700 1 1416 1 1570 1 1096 1 5690 1 5691 1 5692 1 1894 1 1976 1 5693 1 5694 1 2787 1 5695 1 306 1 5696 1 148 1 942 1 384 1 387 1 1020 1 869 1 1422 2 83 1 1506 3 85 1 2155 1 3442 1 1742 1 5460 1 4737 2 150 1 3848 1 4499 1 156 3 391 1 392 1 474 1 393 1 556 1 559 1 1111 1 958 1 2080 2 1271 1 3053 2 1119 1 94 2 3057 1 3377 1 162 2 405 2 560 1 167 1 169 1 962 1 487 1 24 3 2016 1 1126 1 28 1 5321 1 29 1 1362 1 3623 1 3463 1 1843 1 330 1 412 1 413 2 332 1 414 1 333 1 2979 1 654 1 658 1 30 1 975 2 2023 1 1135 1 1056 1 4521 2 2661 1 2743 1 1537 1 340 1 421 1 503 1 107 1 262 2 263 1 428 1 662 1 267 1 348 1 188 1 2033 1 5102 1 1701 1 1143 1 1380 2 49 2 3482 1 1862 2 4292 1 2591 2 1389 1 5664 4 5665 3 5666 1 5667 1 5668 1 1789 1 351 1 5669 1 190 1 353 1 670 1 356 1 195 1\n",
      "\n"
     ]
    }
   ],
   "source": [
    "print len(train_data[10].split())\n",
    "print len(train_data[1].split())\n",
    "\n",
    "print train_data[10]\n",
    "print train_data[1]"
   ]
  },
  {
   "cell_type": "code",
   "execution_count": 12,
   "metadata": {
    "collapsed": true
   },
   "outputs": [],
   "source": [
    "def csr_read(fname, ftype=\"csr\", nidx=1):\n",
    "    r\"\"\" \n",
    "        Read CSR matrix from a text file. \n",
    "        \n",
    "        \\param fname File name for CSR/CLU matrix\n",
    "        \\param ftype Input format. Acceptable formats are:\n",
    "            - csr - Compressed sparse row\n",
    "            - clu - Cluto format, i.e., CSR + header row with \"nrows ncols nnz\"\n",
    "        \\param nidx Indexing type in CSR file. What does numbering of feature IDs start with?\n",
    "    \"\"\"\n",
    "    \n",
    "    with open(fname) as f:\n",
    "        lines = f.readlines()\n",
    "    \n",
    "    if ftype == \"clu\":\n",
    "        p = lines[0].split()\n",
    "        nrows = int(p[0])\n",
    "        ncols = int(p[1])\n",
    "        nnz = long(p[2])\n",
    "        lines = lines[1:]\n",
    "        assert(len(lines) == nrows)\n",
    "    elif ftype == \"csr\":\n",
    "        nrows = len(lines)\n",
    "        ncols = 0 \n",
    "        nnz = 0 \n",
    "        for i in xrange(nrows):\n",
    "            p = lines[i].split()\n",
    "            if len(p) % 2 != 0:\n",
    "                raise ValueError(\"Invalid CSR matrix. Row %d contains %d numbers.\" % (i, len(p)))\n",
    "            nnz += len(p)/2\n",
    "            for j in xrange(0, len(p), 2): \n",
    "                cid = int(p[j]) - nidx\n",
    "                if cid+1 > ncols:\n",
    "                    ncols = cid+1\n",
    "    else:\n",
    "        raise ValueError(\"Invalid sparse matrix ftype '%s'.\" % ftype)\n",
    "    val = np.zeros(nnz, dtype=np.float)\n",
    "    ind = np.zeros(nnz, dtype=np.int)\n",
    "    ptr = np.zeros(nrows+1, dtype=np.long)\n",
    "    n = 0 \n",
    "    for i in xrange(nrows):\n",
    "        p = lines[i].split()\n",
    "        for j in xrange(0, len(p), 2): \n",
    "            ind[n] = int(p[j]) - nidx\n",
    "            val[n] = float(p[j+1])\n",
    "            n += 1\n",
    "        ptr[i+1] = n \n",
    "    \n",
    "    assert(n == nnz)\n",
    "    \n",
    "    return csr_matrix((val, ind, ptr), shape=(nrows, ncols), dtype=np.float)"
   ]
  },
  {
   "cell_type": "raw",
   "metadata": {},
   "source": []
  }
 ],
 "metadata": {
  "kernelspec": {
   "display_name": "Python 2",
   "language": "python",
   "name": "python2"
  },
  "language_info": {
   "codemirror_mode": {
    "name": "ipython",
    "version": 2
   },
   "file_extension": ".py",
   "mimetype": "text/x-python",
   "name": "python",
   "nbconvert_exporter": "python",
   "pygments_lexer": "ipython2",
   "version": "2.7.13"
  }
 },
 "nbformat": 4,
 "nbformat_minor": 2
}
